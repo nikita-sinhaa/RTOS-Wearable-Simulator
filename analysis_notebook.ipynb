
{
 "cells": [
  {
   "cell_type": "markdown",
   "metadata": {},
   "source": [
    "# RTOS Simulation and Signal Filtering - Notebook"
   ]
  },
  {
   "cell_type": "code",
   "execution_count": null,
   "metadata": {},
   "outputs": [],
   "source": [
    "import pandas as pd\n",
    "import matplotlib.pyplot as plt\n",
    "from dsp_filter import lowpass_filter, bandpass_filter"
   ]
  },
  {
   "cell_type": "code",
   "execution_count": null,
   "metadata": {},
   "outputs": [],
   "source": [
    "# Load ECG signal\n",
    "ecg = pd.read_csv('data/ecg_signal.csv')\n",
    "ecg_filtered = lowpass_filter(ecg['ECG'])\n",
    "plt.plot(ecg['Time'], ecg['ECG'], label='Original ECG')\n",
    "plt.plot(ecg['Time'], ecg_filtered, label='Filtered ECG')\n",
    "plt.title('ECG Signal Filtering')\n",
    "plt.legend()\n",
    "plt.show()"
   ]
  },
  {
   "cell_type": "code",
   "execution_count": null,
   "metadata": {},
   "outputs": [],
   "source": [
    "# Load PPG signal\n",
    "ppg = pd.read_csv('data/ppg_signal.csv')\n",
    "ppg_filtered = bandpass_filter(ppg['PPG'])\n",
    "plt.plot(ppg['Time'], ppg['PPG'], label='Original PPG')\n",
    "plt.plot(ppg['Time'], ppg_filtered, label='Filtered PPG')\n",
    "plt.title('PPG Signal Filtering')\n",
    "plt.legend()\n",
    "plt.show()"
   ]
  }
 ],
 "metadata": {
  "kernelspec": {
   "display_name": "Python 3",
   "language": "python",
   "name": "python3"
  },
  "language_info": {
   "name": "python",
   "version": "3.9"
  }
 },
 "nbformat": 4,
 "nbformat_minor": 5
}
